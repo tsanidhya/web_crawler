{
 "cells": [
  {
   "cell_type": "code",
   "execution_count": 1,
   "id": "74d6acaf",
   "metadata": {},
   "outputs": [],
   "source": [
    "#import the library\n",
    "import requests\n",
    "from time import sleep \n",
    "import re\n",
    "import pandas as pd\n",
    "from bs4 import BeautifulSoup"
   ]
  },
  {
   "cell_type": "code",
   "execution_count": 2,
   "id": "fdd5b111",
   "metadata": {},
   "outputs": [],
   "source": [
    "# define header to access google scholar website\n",
    "headers = {'user-agent':'Mozilla/5.0 (Windows NT 10.0; Win64; x64) AppleWebKit/537.36 (KHTML, like Gecko) Chrome/91.0.4472.placeholder Safari/537.36'}"
   ]
  },
  {
   "cell_type": "code",
   "execution_count": 3,
   "id": "5486f8bc",
   "metadata": {},
   "outputs": [],
   "source": [
    "# this function for the getting inforamtion of the web page\n",
    "import random\n",
    "import copy\n",
    "\n",
    "ips = list(range(100))\n",
    "\n",
    "def get_paperinfo(paper_url):\n",
    "\n",
    "  #download the page\n",
    "  hd = copy.deepcopy(headers)\n",
    "  hd['user-agent']=hd['user-agent'].replace(\"placeholder\",str(random.choice(ips)))\n",
    "  response=requests.get(url,headers=hd)\n",
    "\n",
    "  # check successful response\n",
    "  if response.status_code != 200:\n",
    "    print('Status code:', response.status_code)\n",
    "    raise Exception('Failed to fetch web page ')\n",
    "\n",
    "  #parse using beautiful soup\n",
    "  paper_doc = BeautifulSoup(response.text,'html.parser')\n",
    "\n",
    "  return paper_doc"
   ]
  },
  {
   "cell_type": "code",
   "execution_count": 4,
   "id": "748e1934",
   "metadata": {},
   "outputs": [],
   "source": [
    "# this function for the extracting information of the tags\n",
    "def get_tags(doc):\n",
    "  paper_tag = doc.select('[data-lid]')\n",
    "  cite_tag = doc.find_all(lambda tag: tag.name == 'div' and tag.get('class') == ['gs_fl'])\n",
    "  link_tag = doc.find_all('h3',{\"class\" : \"gs_rt\"})\n",
    "  author_tag = doc.find_all(\"div\", {\"class\": \"gs_a\"})\n",
    "\n",
    "  return paper_tag,cite_tag,link_tag,author_tag"
   ]
  },
  {
   "cell_type": "code",
   "execution_count": 5,
   "id": "32f320c3",
   "metadata": {},
   "outputs": [],
   "source": [
    "# it will return the title of the paper\n",
    "def get_papertitle(paper_tag):\n",
    "  \n",
    "  paper_names = []\n",
    "  \n",
    "  for tag in paper_tag:\n",
    "    paper_names.append(tag.select('h3')[0].get_text())\n",
    "\n",
    "  return paper_names"
   ]
  },
  {
   "cell_type": "code",
   "execution_count": 6,
   "id": "91c736b0",
   "metadata": {},
   "outputs": [],
   "source": [
    "# it will return the number of citation of the paper\n",
    "def get_citecount(cite_tag):\n",
    "  cite_count = []\n",
    "  for i in cite_tag:\n",
    "    cite = i.text\n",
    "    if i is None or cite is None:  # if paper has no citatation then consider 0\n",
    "      cite_count.append(0)\n",
    "    else:\n",
    "      tmp = re.search(r'\\d+', cite) # its handle the None type object error and re use to remove the string \" cited by \" and return only integer value\n",
    "      if tmp is None :\n",
    "        cite_count.append(0)\n",
    "      else :\n",
    "        cite_count.append(int(tmp.group()))\n",
    "\n",
    "  return cite_count"
   ]
  },
  {
   "cell_type": "code",
   "execution_count": 7,
   "id": "fe5d47cf",
   "metadata": {},
   "outputs": [],
   "source": [
    "# function for the getting link information\n",
    "def get_link(link_tag):\n",
    "\n",
    "  links = []\n",
    "\n",
    "  for i in range(len(link_tag)) :\n",
    "#     print(link_tag[i].a)\n",
    "#     print()\n",
    "    if link_tag[i].a:\n",
    "        links.append(link_tag[i].a['href'])\n",
    "    else:\n",
    "        links.append(\"unavailable\")\n",
    "\n",
    "  return links "
   ]
  },
  {
   "cell_type": "code",
   "execution_count": 8,
   "id": "258c073b",
   "metadata": {},
   "outputs": [],
   "source": [
    "# function for the getting autho , year and publication information\n",
    "def get_author_year_publi_info(authors_tag):\n",
    "  years = []\n",
    "  publication = []\n",
    "  authors = []\n",
    "  for i in range(len(authors_tag)):\n",
    "      authortag_text = (authors_tag[i].text).split()\n",
    "      if not authors_tag[i] or not authors_tag[i].text:\n",
    "            continue\n",
    "      try:\n",
    "        year = int(re.search(r'\\d+', authors_tag[i].text).group())\n",
    "      except Exception as e:\n",
    "        year = 1000\n",
    "\n",
    "        \n",
    "      years.append(year)\n",
    "      publication.append(authortag_text[-1])\n",
    "      author = authortag_text[0] + ' ' + re.sub(',','', authortag_text[1])\n",
    "      authors.append(author)\n",
    "  \n",
    "  return years , publication, authors"
   ]
  },
  {
   "cell_type": "code",
   "execution_count": 9,
   "id": "0e686663",
   "metadata": {},
   "outputs": [],
   "source": [
    "# creating final repository\n",
    "paper_repos_dict = {\n",
    "                    'Paper Title' : [],\n",
    "                    'Year' : [],\n",
    "                    'Author' : [],\n",
    "                    'Citation' : [],\n",
    "                    'Publication' : [],\n",
    "                    'Url of paper' : [] }\n",
    "\n",
    "# adding information in repository\n",
    "def add_in_paper_repo(papername,year,author,cite,publi,link):\n",
    "  paper_repos_dict['Paper Title'].extend(papername)\n",
    "  paper_repos_dict['Year'].extend(year)\n",
    "  paper_repos_dict['Author'].extend(author)\n",
    "  paper_repos_dict['Citation'].extend(cite)\n",
    "  paper_repos_dict['Publication'].extend(publi)\n",
    "  paper_repos_dict['Url of paper'].extend(link)\n",
    "\n",
    "  return pd.DataFrame(paper_repos_dict)"
   ]
  },
  {
   "cell_type": "code",
   "execution_count": 12,
   "id": "c100c3c2",
   "metadata": {},
   "outputs": [
    {
     "name": "stdout",
     "output_type": "stream",
     "text": [
      "https://scholar.google.com/scholar?start=0&q=neurobiology+of+Adult+ADHD&hl=en&as_sdt=0,5\n",
      "https://scholar.google.com/scholar?start=10&q=neurobiology+of+Adult+ADHD&hl=en&as_sdt=0,5\n",
      "https://scholar.google.com/scholar?start=20&q=neurobiology+of+Adult+ADHD&hl=en&as_sdt=0,5\n",
      "https://scholar.google.com/scholar?start=30&q=neurobiology+of+Adult+ADHD&hl=en&as_sdt=0,5\n",
      "https://scholar.google.com/scholar?start=40&q=neurobiology+of+Adult+ADHD&hl=en&as_sdt=0,5\n",
      "https://scholar.google.com/scholar?start=50&q=neurobiology+of+Adult+ADHD&hl=en&as_sdt=0,5\n",
      "https://scholar.google.com/scholar?start=60&q=neurobiology+of+Adult+ADHD&hl=en&as_sdt=0,5\n",
      "https://scholar.google.com/scholar?start=70&q=neurobiology+of+Adult+ADHD&hl=en&as_sdt=0,5\n",
      "https://scholar.google.com/scholar?start=80&q=neurobiology+of+Adult+ADHD&hl=en&as_sdt=0,5\n",
      "https://scholar.google.com/scholar?start=90&q=neurobiology+of+Adult+ADHD&hl=en&as_sdt=0,5\n",
      "https://scholar.google.com/scholar?start=100&q=neurobiology+of+Adult+ADHD&hl=en&as_sdt=0,5\n",
      "https://scholar.google.com/scholar?start=110&q=neurobiology+of+Adult+ADHD&hl=en&as_sdt=0,5\n",
      "https://scholar.google.com/scholar?start=120&q=neurobiology+of+Adult+ADHD&hl=en&as_sdt=0,5\n",
      "https://scholar.google.com/scholar?start=130&q=neurobiology+of+Adult+ADHD&hl=en&as_sdt=0,5\n",
      "https://scholar.google.com/scholar?start=140&q=neurobiology+of+Adult+ADHD&hl=en&as_sdt=0,5\n",
      "https://scholar.google.com/scholar?start=150&q=neurobiology+of+Adult+ADHD&hl=en&as_sdt=0,5\n",
      "https://scholar.google.com/scholar?start=160&q=neurobiology+of+Adult+ADHD&hl=en&as_sdt=0,5\n",
      "https://scholar.google.com/scholar?start=170&q=neurobiology+of+Adult+ADHD&hl=en&as_sdt=0,5\n",
      "https://scholar.google.com/scholar?start=180&q=neurobiology+of+Adult+ADHD&hl=en&as_sdt=0,5\n",
      "https://scholar.google.com/scholar?start=190&q=neurobiology+of+Adult+ADHD&hl=en&as_sdt=0,5\n",
      "https://scholar.google.com/scholar?start=200&q=neurobiology+of+Adult+ADHD&hl=en&as_sdt=0,5\n",
      "https://scholar.google.com/scholar?start=210&q=neurobiology+of+Adult+ADHD&hl=en&as_sdt=0,5\n",
      "https://scholar.google.com/scholar?start=220&q=neurobiology+of+Adult+ADHD&hl=en&as_sdt=0,5\n",
      "https://scholar.google.com/scholar?start=230&q=neurobiology+of+Adult+ADHD&hl=en&as_sdt=0,5\n",
      "https://scholar.google.com/scholar?start=240&q=neurobiology+of+Adult+ADHD&hl=en&as_sdt=0,5\n",
      "https://scholar.google.com/scholar?start=250&q=neurobiology+of+Adult+ADHD&hl=en&as_sdt=0,5\n",
      "https://scholar.google.com/scholar?start=260&q=neurobiology+of+Adult+ADHD&hl=en&as_sdt=0,5\n",
      "https://scholar.google.com/scholar?start=270&q=neurobiology+of+Adult+ADHD&hl=en&as_sdt=0,5\n",
      "https://scholar.google.com/scholar?start=280&q=neurobiology+of+Adult+ADHD&hl=en&as_sdt=0,5\n",
      "https://scholar.google.com/scholar?start=290&q=neurobiology+of+Adult+ADHD&hl=en&as_sdt=0,5\n",
      "https://scholar.google.com/scholar?start=300&q=neurobiology+of+Adult+ADHD&hl=en&as_sdt=0,5\n",
      "https://scholar.google.com/scholar?start=310&q=neurobiology+of+Adult+ADHD&hl=en&as_sdt=0,5\n",
      "https://scholar.google.com/scholar?start=320&q=neurobiology+of+Adult+ADHD&hl=en&as_sdt=0,5\n",
      "https://scholar.google.com/scholar?start=330&q=neurobiology+of+Adult+ADHD&hl=en&as_sdt=0,5\n",
      "https://scholar.google.com/scholar?start=340&q=neurobiology+of+Adult+ADHD&hl=en&as_sdt=0,5\n",
      "https://scholar.google.com/scholar?start=350&q=neurobiology+of+Adult+ADHD&hl=en&as_sdt=0,5\n",
      "https://scholar.google.com/scholar?start=360&q=neurobiology+of+Adult+ADHD&hl=en&as_sdt=0,5\n",
      "https://scholar.google.com/scholar?start=370&q=neurobiology+of+Adult+ADHD&hl=en&as_sdt=0,5\n",
      "https://scholar.google.com/scholar?start=380&q=neurobiology+of+Adult+ADHD&hl=en&as_sdt=0,5\n",
      "https://scholar.google.com/scholar?start=390&q=neurobiology+of+Adult+ADHD&hl=en&as_sdt=0,5\n"
     ]
    }
   ],
   "source": [
    "import random\n",
    "\n",
    "sleeps = list(range(5,15))\n",
    "\n",
    "for i in range (0,400,10):\n",
    "\n",
    "  # get url for the each page\n",
    "  url = f\"https://scholar.google.com/scholar?start={i}&q=neurobiology+of+Adult+ADHD&hl=en&as_sdt=0,5\"\n",
    "  print(url)\n",
    "\n",
    "  # function for the get content of each page\n",
    "  doc = get_paperinfo(url)\n",
    "\n",
    "  # function for the collecting tags\n",
    "  paper_tag,cite_tag,link_tag,author_tag = get_tags(doc)\n",
    "  \n",
    "  # paper title from each page\n",
    "  papername = get_papertitle(paper_tag)\n",
    "\n",
    "  # year , author , publication of the paper\n",
    "  year , publication , author = get_author_year_publi_info(author_tag)\n",
    "\n",
    "  # cite count of the paper \n",
    "  cite = get_citecount(cite_tag)\n",
    "\n",
    "  # url of the paper\n",
    "  link = get_link(link_tag)\n",
    "\n",
    "  # add in paper repo dict\n",
    "  final = add_in_paper_repo(papername,year,author,cite,publication,link)\n",
    "  \n",
    "  #use sleep to avoid status code 429\n",
    "    \n",
    "  sleep(random.choice(sleeps))"
   ]
  },
  {
   "cell_type": "code",
   "execution_count": 13,
   "id": "410068d7",
   "metadata": {},
   "outputs": [
    {
     "data": {
      "text/plain": [
       "710"
      ]
     },
     "execution_count": 13,
     "metadata": {},
     "output_type": "execute_result"
    }
   ],
   "source": [
    "len(final)"
   ]
  },
  {
   "cell_type": "code",
   "execution_count": null,
   "id": "02e5146f",
   "metadata": {},
   "outputs": [],
   "source": [
    "final[:100]"
   ]
  },
  {
   "cell_type": "code",
   "execution_count": null,
   "id": "ed5e135f",
   "metadata": {},
   "outputs": [],
   "source": [
    "final.to_csv('ADHD_in_adults.csv', sep=',', index=False,header=True)"
   ]
  },
  {
   "cell_type": "code",
   "execution_count": null,
   "id": "a6b4c587",
   "metadata": {},
   "outputs": [],
   "source": []
  }
 ],
 "metadata": {
  "kernelspec": {
   "display_name": "Python 3",
   "language": "python",
   "name": "python3"
  },
  "language_info": {
   "codemirror_mode": {
    "name": "ipython",
    "version": 3
   },
   "file_extension": ".py",
   "mimetype": "text/x-python",
   "name": "python",
   "nbconvert_exporter": "python",
   "pygments_lexer": "ipython3",
   "version": "3.8.8"
  }
 },
 "nbformat": 4,
 "nbformat_minor": 5
}
